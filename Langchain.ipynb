{
 "cells": [
  {
   "cell_type": "code",
   "execution_count": null,
   "id": "a9fdcce3-6667-4b69-b65d-bf7b41c96252",
   "metadata": {
    "tags": []
   },
   "outputs": [],
   "source": [
    "!pip install langchain openai chromadb tiktoken"
   ]
  },
  {
   "cell_type": "code",
   "execution_count": 1,
   "id": "5f553162-5906-49b8-acd3-01c403c3cbf6",
   "metadata": {},
   "outputs": [],
   "source": [
    "import os\n",
    "from apikey import apikey"
   ]
  },
  {
   "cell_type": "code",
   "execution_count": 2,
   "id": "09a55520-6538-4bfd-9649-291e6676f5b5",
   "metadata": {
    "tags": []
   },
   "outputs": [],
   "source": [
    "os.environ['OPENAI_API_KEY'] = apikey"
   ]
  },
  {
   "cell_type": "code",
   "execution_count": 3,
   "id": "3ed109dc-50eb-4a9c-a441-bd2a6b121b21",
   "metadata": {},
   "outputs": [],
   "source": [
    "from langchain.agents import create_pandas_dataframe_agent\n",
    "from langchain.llms import OpenAI\n",
    "import pandas as pd"
   ]
  },
  {
   "cell_type": "markdown",
   "id": "2b1b9985-a7d4-48fb-b2dc-58ce3b6855c6",
   "metadata": {},
   "source": [
    "# What would this look like without an LLM"
   ]
  },
  {
   "cell_type": "code",
   "execution_count": null,
   "id": "58473659-b46b-4426-a3b1-a7f603494013",
   "metadata": {},
   "outputs": [],
   "source": [
    "df = pd.read_csv('train.csv')"
   ]
  },
  {
   "cell_type": "code",
   "execution_count": null,
   "id": "27efd237-d4eb-4789-b035-22127575e40a",
   "metadata": {},
   "outputs": [],
   "source": [
    "df.columns"
   ]
  },
  {
   "cell_type": "code",
   "execution_count": null,
   "id": "ad293785-c6b7-47e6-a07c-2a40d465473b",
   "metadata": {},
   "outputs": [],
   "source": [
    "df.select_dtypes(exclude='object').corr()"
   ]
  },
  {
   "cell_type": "code",
   "execution_count": null,
   "id": "9c7f60e9-3955-4e3b-beb3-1427771b06df",
   "metadata": {
    "tags": []
   },
   "outputs": [],
   "source": [
    "df.drop(columns=['PassengerId', 'HomePlanet', 'Destination', 'Name', 'Cabin']).corr()"
   ]
  },
  {
   "cell_type": "markdown",
   "id": "258e8054-44f5-4e01-acc7-0790239a80fb",
   "metadata": {},
   "source": [
    "# Langchain"
   ]
  },
  {
   "cell_type": "code",
   "execution_count": null,
   "id": "76899e58-d566-4782-a5d8-1d8d559d7d5b",
   "metadata": {},
   "outputs": [],
   "source": [
    "agent = create_pandas_dataframe_agent(OpenAI(temperature=0), df, verbose=True)"
   ]
  },
  {
   "cell_type": "code",
   "execution_count": null,
   "id": "7d781a0e-8bbe-4827-aabd-67b724a73736",
   "metadata": {
    "tags": []
   },
   "outputs": [],
   "source": [
    "agent.run('what columns are available in the dataframe?')"
   ]
  },
  {
   "cell_type": "code",
   "execution_count": null,
   "id": "ebe0f8f7-ac44-4cad-860e-cfd3d89a37df",
   "metadata": {
    "tags": []
   },
   "outputs": [],
   "source": [
    "agent.run('is there any strong correlation between columns?')"
   ]
  },
  {
   "cell_type": "code",
   "execution_count": null,
   "id": "6107e310-4a88-4217-8267-083819e416dd",
   "metadata": {},
   "outputs": [],
   "source": [
    "agent.run('build me a machine learning model that predicts the column Transported, save the model as a pickle file')"
   ]
  },
  {
   "cell_type": "code",
   "execution_count": null,
   "id": "2f392692-ef7c-490c-a9ec-e2a8daeefbf9",
   "metadata": {},
   "outputs": [],
   "source": [
    "agent.run('save the machine learning model that was trained as a pickle file')"
   ]
  },
  {
   "cell_type": "markdown",
   "id": "e8c6c7b1-ddc4-4bac-8bdd-9964ba257cfb",
   "metadata": {},
   "source": [
    "# Wikipedia"
   ]
  },
  {
   "cell_type": "code",
   "execution_count": 11,
   "id": "e4394e47-5e3b-450d-b970-2e424cc5c855",
   "metadata": {},
   "outputs": [],
   "source": [
    "from langchain.agents import load_tools\n",
    "from langchain.agents import initialize_agent\n",
    "from langchain.agents import AgentType\n",
    "from langchain.llms import OpenAI"
   ]
  },
  {
   "cell_type": "code",
   "execution_count": 4,
   "id": "927e10df-acae-4084-80ca-272a289c6da5",
   "metadata": {},
   "outputs": [],
   "source": [
    "llm = OpenAI(temperature=0)"
   ]
  },
  {
   "cell_type": "code",
   "execution_count": 7,
   "id": "03d0ae4e-ef3a-40a1-9fe7-e70d8537ce16",
   "metadata": {},
   "outputs": [],
   "source": [
    "tools = load_tools([\"wikipedia\"], llm=llm)"
   ]
  },
  {
   "cell_type": "code",
   "execution_count": 12,
   "id": "2ec5217c-bfde-4c15-9532-ad778b07b92f",
   "metadata": {},
   "outputs": [],
   "source": [
    "agent = initialize_agent(tools, llm, agent=AgentType.ZERO_SHOT_REACT_DESCRIPTION, verbose=True)"
   ]
  },
  {
   "cell_type": "code",
   "execution_count": 14,
   "id": "aabd3574-db57-4135-b84b-fcdb80d7c9ba",
   "metadata": {},
   "outputs": [
    {
     "name": "stdout",
     "output_type": "stream",
     "text": [
      "\n",
      "\n",
      "\u001b[1m> Entering new AgentExecutor chain...\u001b[0m\n",
      "\u001b[32;1m\u001b[1;3m I need to find out who won the battle of Thermopylae\n",
      "Action: Wikipedia\n",
      "Action Input: Battle of Thermopylae\u001b[0m\u001b[36;1m\u001b[1;3mPage: Battle of Thermopylae\n",
      "Summary: The Battle of Thermopylae ( thər-MOP-i-lee; Greek: Μάχη τῶν Θερμοπυλῶν, Máchē tōn Thermopylōn) was fought in 480 BC between the Achaemenid Persian Empire under Xerxes I and an alliance of Greek city-states led by Sparta under Leonidas I. Lasting over the course of three days, it was one of the most prominent battles of both the second Persian invasion of Greece and the wider Greco-Persian Wars.\n",
      "The engagement at Thermopylae occurred simultaneously with the Battle of Artemisium: between July and September 480 BC. The second Persian invasion under Xerxes I was a delayed response to the failure of the first Persian invasion, which had been initiated by Darius I and ended in 490 BC by an Athenian-led Greek victory at the Battle of Marathon. By 480 BC, a decade after the Persian defeat at Marathon, Xerxes had amassed a massive land and naval force, and subsequently set out to conquer all of Greece. In response, the Athenian politician and general Themistocles proposed that the allied Greeks block the advance of the Persian army at the pass of Thermopylae while simultaneously blocking the Persian navy at the Straits of Artemisium.\n",
      "Around the start of the invasion, a Greek force of approximately 7,000 men led by Leonidas marched north to block the pass of Thermopylae. Ancient authors vastly inflated the size of the Persian army, with estimates in the millions, but modern scholars estimate it at between 120,000 and 300,000 soldiers. They arrived at Thermopylae by late August or early September; the outnumbered Greeks held them off for seven days (including three of direct battle) before their rear-guard was annihilated in one of history's most famous last stands. During two full days of battle, the Greeks blocked the only road by which the massive Persian army could traverse the narrow pass. After the second day, a local resident named Ephialtes revealed to the Persians the existence of a path leading behind the Greek lines. Subsequently, Leonidas, aware that his force was being outflanked by the Persians, dismissed the bulk of the Greek army and remained to guard their retreat along with 300 Spartans and 700 Thespians. It has been reported that others also remained, including up to 900 helots and 400 Thebans. With the exception of the Thebans, most of whom reportedly surrendered, the Greeks fought the Persians to the death.\n",
      "Themistocles was in command of the Greek naval force at Artemisium when he received news that the Persians had taken the pass at Thermopylae. Since the Greek defensive strategy had required both Thermopylae and Artemisium to be held, the decision was made to withdraw to the island of Salamis. The Persians overran Boeotia and then captured the evacuated city of Athens. The Greek fleet—seeking a decisive victory over the Persian armada—attacked and defeated the invading force at the Battle of Salamis in late 480 BC. Wary of being trapped in Europe, Xerxes withdrew with much of his army to Asia, reportedly losing many of his troops to starvation and disease while also leaving behind the Persian military commander Mardonius to continue the Achaemenid Empire's Greek campaign. However, the following year saw a Greek army decisively defeat Mardonius and his troops at the Battle of Plataea, ending the second Persian invasion.\n",
      "Both ancient and modern writers have used the Battle of Thermopylae as a flagship example of the power of an army defending its native soil. The performance of the Greek defenders is also used as an example of the advantages of training, equipment, and use of terrain as force multipliers.\n",
      "\n",
      "\n",
      "\n",
      "Page: Thermopylae\n",
      "Summary: Thermopylae (; Ancient Greek and Katharevousa: Θερμοπύλαι, romanized: Thermopylai; Ancient: [tʰermopýlai], Katharevousa: [θermoˈpile̞]; Demotic Greek (Greek): Θερμοπύλες, romanized: Thermopyles [θermoˈpiles]; \"hot gates\") is a place in Greece where a narrow coastal passage existed in antiquity. It derives its name from its hot sulphur springs. In Greek mythology the Hot Gates is one of the entrances to Hades.Thermopylae is the site of the Battle of Thermopylae between the Greek forces (including Spartans, Thebans and Thespians) and the invading Persian forces, commemorated by Simonides of Ceos in the epitaph, \"Go tell the Spartans, stranger passing by, That here obedient to their laws we lie.\" Thermopylae is the only land route large enough to bear any significant traffic between Lokris and Thessaly. To go from north to south along the east coast of the Balkans requires use of the pass.\n",
      "In ancient times it was called Malis, named after the Malians (Ancient Greek: Μαλιεῖς), a Greek tribe that lived near present-day Lamia at the delta of the river Spercheios in Greece. The Malian Gulf is also named after them. In the western valley of the Spercheios their land was adjacent to the Aenianes. Their main town was named Trachis. In the town of Anthela, the Malians had an important Temple of Demeter Amphictyonis, an early center of the Anthelan Amphictyony.\n",
      "The land is dominated by the coastal floodplain of the Spercheios river and is surrounded by sloping forested limestone mountains. There is continuous deposition of sediment from the river and travertine deposits from the hot springs which has substantially altered the landscape during the past few thousand years. The land surface on which the famous Battle of Thermopylae was fought in 480 BC is now buried under 20 metres (66 ft) of soil. The shoreline has also advanced over the centuries because of the sedimentary deposition. The level of the Malian Gulf was also significantly higher during prehistoric times, and the Spercheios River was significantly shorter. Its shoreline advanced by up to 2 kilometers between 2500 BC and 480 BC but has still left several narrow passages between the sea and the mountains. The narrowest point on the plain, where the battle was probably fought, would have been less than 100 metres (330 ft) wide. Between 480 BC and the 21st century, the shoreline advanced by as much as 9 km (5.6 mi) in places, eliminating the narrowest points of the pass and considerably increasing the size of the plain around the outlet of the Spercheios.The A1 motorway linking Athens and Thessaloniki now follows the ancient shoreline and thus splits the pass; a modern-day monument to King Leonidas I of Sparta is situated on the east side of the highway, directly across the road from the hill where Simonides' epitaph to the fallen is engraved in stone at the top. Thermopylae is part of the \"horseshoe of Maliakos\", also known as the \"horseshoe of death\": it is the narrowest part of the highway connecting the north and the south of Greece. It has many turns and has been the site of many vehicular accidents.\n",
      "\n",
      "The hot springs from which the pass derives its name still exist close to the foot of the hill.\n",
      "\n",
      "Page: Battle of Thermopylae (1941)\n",
      "Summary: The Battle of Thermopylae, on 24–25 April 1941, was part of the German invasion of Greece during World War II.\u001b[0m\u001b[32;1m\u001b[1;3m I now know the final answer\n",
      "Final Answer: The Battle of Thermopylae in 480 BC was fought between the Achaemenid Persian Empire under Xerxes I and an alliance of Greek city-states led by Sparta under Leonidas I. The Greeks were ultimately defeated by the Persians. The Battle of Thermopylae in 1941 was part of the German invasion of Greece during World War II.\u001b[0m\n",
      "\n",
      "\u001b[1m> Finished chain.\u001b[0m\n"
     ]
    },
    {
     "data": {
      "text/plain": [
       "'The Battle of Thermopylae in 480 BC was fought between the Achaemenid Persian Empire under Xerxes I and an alliance of Greek city-states led by Sparta under Leonidas I. The Greeks were ultimately defeated by the Persians. The Battle of Thermopylae in 1941 was part of the German invasion of Greece during World War II.'"
      ]
     },
     "execution_count": 14,
     "metadata": {},
     "output_type": "execute_result"
    }
   ],
   "source": [
    "agent.run('who won the battle of Thermopylae and save the output to a text file')"
   ]
  },
  {
   "cell_type": "code",
   "execution_count": null,
   "id": "4f42c613-b847-421f-abc8-67b20d171c57",
   "metadata": {},
   "outputs": [],
   "source": []
  }
 ],
 "metadata": {
  "kernelspec": {
   "display_name": "llms",
   "language": "python",
   "name": "llms"
  },
  "language_info": {
   "codemirror_mode": {
    "name": "ipython",
    "version": 3
   },
   "file_extension": ".py",
   "mimetype": "text/x-python",
   "name": "python",
   "nbconvert_exporter": "python",
   "pygments_lexer": "ipython3",
   "version": "3.9.12"
  }
 },
 "nbformat": 4,
 "nbformat_minor": 5
}
